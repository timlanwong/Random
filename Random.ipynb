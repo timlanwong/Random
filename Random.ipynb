{
 "cells": [
  {
   "cell_type": "code",
   "execution_count": 1,
   "metadata": {},
   "outputs": [],
   "source": [
    "import pandas as pd\n",
    "import numpy as np"
   ]
  },
  {
   "cell_type": "code",
   "execution_count": 2,
   "metadata": {},
   "outputs": [],
   "source": [
    "homeless = pd.read_csv(\"homeless_prep.csv\")"
   ]
  },
  {
   "cell_type": "markdown",
   "metadata": {},
   "source": [
    "This dataset consists of data from a local homeless shelter that has gathered data on their homeless population seeking shelter.\n",
    "\n",
    "CLIENT_KEY: This represents unique identifier of each client seeking shelter \n",
    "\n",
    "AGE: This is the age of the client seeking shelter \n",
    "\n",
    "GENDER: This is the gender of the client seeking shelter \n",
    "\n",
    "VETERAN: This is an indicator to indicate if the client is a veteran or not \n",
    "\n",
    "INCOME: This is the yearly income of the client seeking shelter \n",
    "\n",
    "NIGHTS: This is the number of nights the client seeking shelter has stayed at the shelter \n",
    "\n",
    "SUBSTANCEABUSE: This is an indicator to indicate if the client has substance abuse or not \n",
    "\n",
    "COMPLETED: This is an indicator to indicate if the client has completed shelters program \n",
    "\n",
    "PROBATION: This is an indicator to indicate if the client is on probation or not \n",
    "\n",
    "ASSISTANCETYPE: This is the different types of assistance offered from the shelter \n",
    "\n",
    "REQUIRED: This is an indicator to determin which assitance the client is requiring"
   ]
  },
  {
   "cell_type": "code",
   "execution_count": 3,
   "metadata": {
    "scrolled": true
   },
   "outputs": [
    {
     "data": {
      "text/plain": [
       "(242, 11)"
      ]
     },
     "execution_count": 3,
     "metadata": {},
     "output_type": "execute_result"
    }
   ],
   "source": [
    "homeless.shape"
   ]
  },
  {
   "cell_type": "code",
   "execution_count": 4,
   "metadata": {},
   "outputs": [
    {
     "data": {
      "text/html": [
       "<div>\n",
       "<style scoped>\n",
       "    .dataframe tbody tr th:only-of-type {\n",
       "        vertical-align: middle;\n",
       "    }\n",
       "\n",
       "    .dataframe tbody tr th {\n",
       "        vertical-align: top;\n",
       "    }\n",
       "\n",
       "    .dataframe thead th {\n",
       "        text-align: right;\n",
       "    }\n",
       "</style>\n",
       "<table border=\"1\" class=\"dataframe\">\n",
       "  <thead>\n",
       "    <tr style=\"text-align: right;\">\n",
       "      <th></th>\n",
       "      <th>CLIENT_KEY</th>\n",
       "      <th>AGE</th>\n",
       "      <th>GENDER</th>\n",
       "      <th>VETERAN</th>\n",
       "      <th>INCOME</th>\n",
       "      <th>NIGHTS</th>\n",
       "      <th>substanceabuse</th>\n",
       "      <th>completed</th>\n",
       "      <th>probation</th>\n",
       "      <th>assistancetype</th>\n",
       "      <th>required</th>\n",
       "    </tr>\n",
       "  </thead>\n",
       "  <tbody>\n",
       "    <tr>\n",
       "      <th>0</th>\n",
       "      <td>256172</td>\n",
       "      <td>20</td>\n",
       "      <td>Female</td>\n",
       "      <td>No</td>\n",
       "      <td>0.0</td>\n",
       "      <td>152.0</td>\n",
       "      <td>0</td>\n",
       "      <td>0</td>\n",
       "      <td>1</td>\n",
       "      <td>tempassistance</td>\n",
       "      <td>1</td>\n",
       "    </tr>\n",
       "    <tr>\n",
       "      <th>1</th>\n",
       "      <td>221079</td>\n",
       "      <td>20</td>\n",
       "      <td>Female</td>\n",
       "      <td>No</td>\n",
       "      <td>740.0</td>\n",
       "      <td>229.0</td>\n",
       "      <td>0</td>\n",
       "      <td>1</td>\n",
       "      <td>0</td>\n",
       "      <td>tempassistance</td>\n",
       "      <td>1</td>\n",
       "    </tr>\n",
       "    <tr>\n",
       "      <th>2</th>\n",
       "      <td>243074</td>\n",
       "      <td>21</td>\n",
       "      <td>Female</td>\n",
       "      <td>No</td>\n",
       "      <td>0.0</td>\n",
       "      <td>105.0</td>\n",
       "      <td>1</td>\n",
       "      <td>1</td>\n",
       "      <td>0</td>\n",
       "      <td>tempassistance</td>\n",
       "      <td>1</td>\n",
       "    </tr>\n",
       "    <tr>\n",
       "      <th>3</th>\n",
       "      <td>129974</td>\n",
       "      <td>21</td>\n",
       "      <td>Female</td>\n",
       "      <td>No</td>\n",
       "      <td>0.0</td>\n",
       "      <td>371.0</td>\n",
       "      <td>1</td>\n",
       "      <td>1</td>\n",
       "      <td>0</td>\n",
       "      <td>tempassistance</td>\n",
       "      <td>1</td>\n",
       "    </tr>\n",
       "    <tr>\n",
       "      <th>4</th>\n",
       "      <td>226596</td>\n",
       "      <td>22</td>\n",
       "      <td>Female</td>\n",
       "      <td>No</td>\n",
       "      <td>0.0</td>\n",
       "      <td>169.0</td>\n",
       "      <td>0</td>\n",
       "      <td>0</td>\n",
       "      <td>0</td>\n",
       "      <td>tempassistance</td>\n",
       "      <td>1</td>\n",
       "    </tr>\n",
       "  </tbody>\n",
       "</table>\n",
       "</div>"
      ],
      "text/plain": [
       "   CLIENT_KEY  AGE  GENDER VETERAN  INCOME  NIGHTS  substanceabuse  completed  \\\n",
       "0      256172   20  Female      No     0.0   152.0               0          0   \n",
       "1      221079   20  Female      No   740.0   229.0               0          1   \n",
       "2      243074   21  Female      No     0.0   105.0               1          1   \n",
       "3      129974   21  Female      No     0.0   371.0               1          1   \n",
       "4      226596   22  Female      No     0.0   169.0               0          0   \n",
       "\n",
       "   probation  assistancetype  required  \n",
       "0          1  tempassistance         1  \n",
       "1          0  tempassistance         1  \n",
       "2          0  tempassistance         1  \n",
       "3          0  tempassistance         1  \n",
       "4          0  tempassistance         1  "
      ]
     },
     "execution_count": 4,
     "metadata": {},
     "output_type": "execute_result"
    }
   ],
   "source": [
    "homeless.head(5)"
   ]
  },
  {
   "cell_type": "code",
   "execution_count": null,
   "metadata": {},
   "outputs": [],
   "source": []
  }
 ],
 "metadata": {
  "kernelspec": {
   "display_name": "Python 3",
   "language": "python",
   "name": "python3"
  },
  "language_info": {
   "codemirror_mode": {
    "name": "ipython",
    "version": 3
   },
   "file_extension": ".py",
   "mimetype": "text/x-python",
   "name": "python",
   "nbconvert_exporter": "python",
   "pygments_lexer": "ipython3",
   "version": "3.6.8"
  }
 },
 "nbformat": 4,
 "nbformat_minor": 2
}
